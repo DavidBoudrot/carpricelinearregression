{
 "cells": [
  {
   "cell_type": "markdown",
   "metadata": {},
   "source": [
    "Linear Regression Model for Used Car Prices\n",
    "David Boudrot - 4/25/23"
   ]
  },
  {
   "cell_type": "code",
   "execution_count": 1,
   "metadata": {},
   "outputs": [],
   "source": [
    "import pandas as pd\n",
    "import numpy as np\n",
    "import matplotlib.pyplot as plt\n",
    "from sklearn.model_selection import train_test_split\n",
    "from sklearn.linear_model import LinearRegression\n",
    "# The goal of this project is to predict used prices of cars based on their odometer readings.\n",
    "# The dataset used for this project was obtained from kaggle.com\n",
    "def main():\n",
    "    i = input(\"Welcome to the car price estimator.\\nPress 1 to get a fair price for your car.\\nPress 2 for data visualizations\\n\")\n",
    "    if i == \"1\":\n",
    "        make = input(\"What make of car would you like to analyze?\\n\")\n",
    "        model = input(\"What model of car would you like to analyze?\\n\")\n",
    "        year = input(\"What year of car would you like to analyze?\\n\")\n",
    "        odometer = input(\"What is the odometer reading of the car?\\n\")\n",
    "        # Set input to lowercase\n",
    "        make = make.lower()\n",
    "        model = model.lower()\n",
    "        year = year.lower()\n",
    "        odometer = odometer.lower()\n",
    "        # Verify input\n",
    "        verify_input(make, model, year, odometer)\n",
    "        # Get price of car\n",
    "        get_car_price(make, model, year, int(odometer))\n",
    "    if i == \"2\":\n",
    "        i2 = input(\"Press 1 to see average depreciation rate for mileage\\nPress 2 to see depreciation by year\\n\")\n",
    "        if i2 == \"1\":\n",
    "            get_car_price_average_mileage()\n",
    "        if i2 == \"2\":\n",
    "            get_car_price_average_year()"
   ]
  },
  {
   "cell_type": "markdown",
   "metadata": {},
   "source": [
    "Ask user for make, model, year, and odometer reading of car to be analyzed."
   ]
  },
  {
   "cell_type": "code",
   "execution_count": 2,
   "metadata": {},
   "outputs": [],
   "source": [
    "def verify_input(make, model, year, odometer):\n",
    "    if odometer.isnumeric() == False:\n",
    "        print(\"Please enter a valid odometer reading.\")\n",
    "        main()\n",
    "    if year.isnumeric() == False:\n",
    "        print(\"Please enter a valid year.\")\n",
    "        main()\n",
    "    # Importing the dataset\n",
    "    dataset = pd.read_csv('vehicles.csv')\n",
    "    # Cleaning the dataset\n",
    "    dataset = dataset[dataset['manufacturer'].isin([make])]\n",
    "    dataset = dataset[dataset['model'].isin([model])]\n",
    "    dataset = dataset[dataset['year'].isin([int(year)])]\n",
    "    dataset = dataset[dataset['price'] != 0]\n",
    "    dataset = dataset[dataset['odometer'].notnull()]\n",
    "    dataset = dataset[dataset['price'].notnull()]\n",
    "    # Remove outliers\n",
    "    dataset = dataset[dataset['odometer'] < 500000]\n",
    "    dataset = dataset[dataset['price'] < 100000]\n",
    "    dataset = dataset[dataset['price'] > 1000]\n",
    "    # Remove any car with 0 miles under 10000 dollars\n",
    "    dataset = dataset[~((dataset['price'] < 10000) & (dataset['odometer'] < 1235))]\n",
    "    if dataset.empty:\n",
    "        print(\"No cars found. Please try a different vehicle.\")\n",
    "        main()\n",
    "    else:\n",
    "        return"
   ]
  },
  {
   "cell_type": "markdown",
   "metadata": {},
   "source": [
    "Verify that the user input is valid."
   ]
  },
  {
   "cell_type": "code",
   "execution_count": 3,
   "metadata": {},
   "outputs": [],
   "source": [
    "def get_car_price(make, model, year, odometer):\n",
    "    print(\"Loading . . .\")\n",
    "    # Importing the dataset\n",
    "    dataset = pd.read_csv('vehicles.csv')\n",
    "    # Cleaning the dataset\n",
    "    dataset = dataset[dataset['manufacturer'].isin([make])]\n",
    "    dataset = dataset[dataset['model'].isin([model])]\n",
    "    dataset = dataset[dataset['year'].isin([int(year)])]\n",
    "    dataset = dataset[dataset['price'] != 0]\n",
    "    X = dataset.iloc[:, 11].values\n",
    "    y = dataset.iloc[:, 4].values\n",
    "    X = X.reshape(-1, 1)\n",
    "    y = y.reshape(-1, 1)\n",
    "    X_train, X_test, y_train, y_test = train_test_split(X, y, test_size = 0.2)\n",
    "    # Fitting Simple Linear Regression to the Training set\n",
    "    regressor = LinearRegression()\n",
    "    regressor.fit(X_train, y_train)\n",
    "    # Predicting the price of the car\n",
    "    price = regressor.predict(np.array(odometer).reshape(-1, 1))\n",
    "    print(\"The estimated price of the car in $ is: \", price)\n",
    "    #print the accuracy of the model\n",
    "    # print(\"The accuracy of the model is: \", regressor.score(X_test, y_test))\n",
    "    # Visualising the results\n",
    "    plt.scatter(X_train, y_train, color = 'red')\n",
    "    plt.plot(X_train, regressor.predict(X_train), color = 'blue')\n",
    "    plt.title('Price vs Odometer (Training set)')\n",
    "    plt.xlabel('Odometer')\n",
    "    plt.ylabel('Price')\n",
    "    plt.show()"
   ]
  },
  {
   "cell_type": "markdown",
   "metadata": {},
   "source": [
    "Here the dataframe is queried to only show cars that fit the users input.\n",
    "Once the dataframe only has cars that match the make, model, and year, the data is cleaned.\n",
    "The data is cleaned by removing any cars with a price of 0, any cars with a null odometer reading, and any cars with a null price.\n",
    "The data is run through a linear regression model to predict the price of the car based on the odometer reading.\n",
    "The data is then plotted to show the relationship between price and odometer reading.\n",
    "Example of the data visualization for a 2015 Honda Civic:\n"
   ]
  },
  {
   "cell_type": "markdown",
   "metadata": {},
   "source": [
    "[hondacivic.png](attachment:hondacivic.png)\n"
   ]
  },
  {
   "cell_type": "code",
   "execution_count": 4,
   "metadata": {},
   "outputs": [],
   "source": [
    "def get_car_price_average_mileage():\n",
    "    print(\"Loading . . .\")\n",
    "    # Importing the dataset\n",
    "    dataset = pd.read_csv('vehicles.csv')\n",
    "    # Cleaning the dataset\n",
    "    dataset = dataset[dataset['price'] != 0]\n",
    "    dataset = dataset[dataset['odometer'].notnull()]\n",
    "    dataset = dataset[dataset['price'].notnull()]\n",
    "    # Remove outliers\n",
    "    dataset = dataset[dataset['odometer'] < 500000]\n",
    "    dataset = dataset[dataset['price'] < 100000]\n",
    "    dataset = dataset[dataset['price'] > 1000]\n",
    "    # Remove any car with 0 miles under 10000 dollars\n",
    "    dataset = dataset[~((dataset['price'] < 10000) & (dataset['odometer'] < 1235))]\n",
    "    # Group the data by odometer readings\n",
    "    dataset['odometer_bins'] = pd.cut(dataset['odometer'], bins=range(0, 300000, 1000))\n",
    "    avg_prices = dataset.groupby('odometer_bins')['price'].mean().reset_index()\n",
    "    avg_prices['odometer'] = avg_prices['odometer_bins'].apply(lambda x: x.mid)\n",
    "    avg_prices.drop('odometer_bins', axis=1, inplace=True)\n",
    "    # Plot the average price of the car by mileage as a line graph\n",
    "    plt.xlim(0, avg_prices['odometer'].max())\n",
    "    plt.ylim(0, avg_prices['price'].max())\n",
    "    plt.plot(avg_prices['odometer'], avg_prices['price'], color='red', linestyle='-')\n",
    "    plt.title('Average Price vs Odometer')\n",
    "    plt.xlabel('Odometer')\n",
    "    plt.ylabel('Average Price (USD $)')\n",
    "    plt.show()"
   ]
  },
  {
   "cell_type": "code",
   "execution_count": 5,
   "metadata": {},
   "outputs": [],
   "source": [
    "def get_car_price_average_year():\n",
    "    print(\"Loading . . .\")\n",
    "    # Importing the dataset\n",
    "    dataset = pd.read_csv('vehicles.csv')\n",
    "    # Cleaning the dataset\n",
    "    dataset = dataset[dataset['price'] != 0]\n",
    "    dataset = dataset[dataset['odometer'].notnull()]\n",
    "    dataset = dataset[dataset['price'].notnull()]\n",
    "    # Remove outliers\n",
    "    dataset = dataset[dataset['odometer'] < 500000]\n",
    "    dataset = dataset[dataset['price'] < 100000]\n",
    "    dataset = dataset[dataset['price'] > 1000]\n",
    "    # Remove any car with 0 miles under 10000 dollars\n",
    "    dataset = dataset[~((dataset['price'] < 10000) & (dataset['odometer'] < 1235))]\n",
    "    # Group the data by odometer readings\n",
    "    dataset['year_bins'] = pd.cut(dataset['year'], bins=range(1970, 2021, 1))\n",
    "    avg_prices = dataset.groupby('year_bins')['price'].mean().reset_index()\n",
    "    avg_prices['year'] = avg_prices['year_bins'].apply(lambda x: x.mid)\n",
    "    avg_prices.drop('year_bins', axis=1, inplace=True)\n",
    "    # Plot the average price of the car by mileage as a line graph\n",
    "    plt.xlim(1970, avg_prices['year'].max())\n",
    "    plt.ylim(0, avg_prices['price'].max())\n",
    "    plt.plot(avg_prices['year'], avg_prices['price'], color='red', linestyle='-')\n",
    "    plt.title('Average Price vs Model Year')\n",
    "    plt.xlabel('Model Year')\n",
    "    plt.ylabel('Average Price (USD $)')\n",
    "    plt.show()"
   ]
  },
  {
   "cell_type": "code",
   "execution_count": 6,
   "metadata": {},
   "outputs": [
    {
     "name": "stdout",
     "output_type": "stream",
     "text": [
      "Welcome to the car price estimator.\n",
      "Press 1 to get a fair price for your car.\n",
      "Press 2 for data visualizations\n",
      "2\n",
      "Press 1 to see average depreciation rate for mileage\n",
      "Press 2 to see depreciation by year\n",
      "2\n",
      "Loading . . .\n"
     ]
    },
    {
     "data": {
      "image/png": "[encoded data removed]",
      "text/plain": [
       "<Figure size 640x480 with 1 Axes>"
      ]
     },
     "metadata": {},
     "output_type": "display_data"
    }
   ],
   "source": [
    "main()"
   ]
  }
 ],
 "metadata": {
  "kernelspec": {
   "display_name": "Python 3 (ipykernel)",
   "language": "python",
   "name": "python3"
  },
  "language_info": {
   "codemirror_mode": {
    "name": "ipython",
    "version": 3
   },
   "file_extension": ".py",
   "mimetype": "text/x-python",
   "name": "python",
   "nbconvert_exporter": "python",
   "pygments_lexer": "ipython3",
   "version": "3.10.10"
  }
 },
 "nbformat": 4,
 "nbformat_minor": 1
}
